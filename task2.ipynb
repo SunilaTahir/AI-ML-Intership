{
 "cells": [
  {
   "cell_type": "code",
   "execution_count": 4,
   "id": "d09efd01",
   "metadata": {},
   "outputs": [
    {
     "name": "stdout",
     "output_type": "stream",
     "text": [
      "   age         job  marital  education default  balance housing loan  contact  \\\n",
      "0   59      admin.  married  secondary      no     2343     yes   no  unknown   \n",
      "1   56      admin.  married  secondary      no       45      no   no  unknown   \n",
      "2   41  technician  married  secondary      no     1270     yes   no  unknown   \n",
      "3   55    services  married  secondary      no     2476     yes   no  unknown   \n",
      "4   54      admin.  married   tertiary      no      184      no   no  unknown   \n",
      "\n",
      "   day month  duration  campaign  pdays  previous poutcome deposit  \n",
      "0    5   may      1042         1     -1         0  unknown     yes  \n",
      "1    5   may      1467         1     -1         0  unknown     yes  \n",
      "2    5   may      1389         1     -1         0  unknown     yes  \n",
      "3    5   may       579         1     -1         0  unknown     yes  \n",
      "4    5   may       673         2     -1         0  unknown     yes  \n",
      "age          0\n",
      "job          0\n",
      "marital      0\n",
      "education    0\n",
      "default      0\n",
      "balance      0\n",
      "housing      0\n",
      "loan         0\n",
      "contact      0\n",
      "day          0\n",
      "month        0\n",
      "duration     0\n",
      "campaign     0\n",
      "pdays        0\n",
      "previous     0\n",
      "poutcome     0\n",
      "deposit      0\n",
      "dtype: int64\n"
     ]
    }
   ],
   "source": [
    "# STEP 1: Load Data\n",
    "import pandas as pd\n",
    "import numpy as np\n",
    "\n",
    "# Load dataset\n",
    "bank_df = pd.read_csv(\"bank.csv\")\n",
    "\n",
    "# Display first few rows\n",
    "print(bank_df.head())\n",
    "\n",
    "# Explanation:\n",
    "# - pd.read_csv(): File load karta hai\n",
    "# - head(): Pehli 5 rows dikhata hai taake data ka structure samajh aaye\n",
    "\n",
    "\n",
    "#  STEP 2: Check Missing Values\n",
    "print(bank_df.isnull().sum())\n",
    "\n",
    "# Explanation:\n",
    "# - isnull(): Missing values ko True/False mein convert karta hai\n",
    "# - sum(): Har column ke missing values count karta hai\n",
    "\n",
    "# STEP 3: Encode Categorical Variables\n",
    "from sklearn.preprocessing import LabelEncoder\n",
    "# Encode all object-type columns\n",
    "label_encoders = {}\n",
    "for col in bank_df.select_dtypes(include='object').columns:\n",
    "    le = LabelEncoder()\n",
    "    bank_df[col] = le.fit_transform(bank_df[col])\n",
    "    label_encoders[col] = le\n",
    "\n",
    "# Explanation:\n",
    "# - LabelEncoder(): Strings (e.g., \"yes\", \"no\") ko numbers mein convert karta hai\n",
    "# - select_dtypes(): Sirf categorical columns ko filter karta hai\n",
    "\n"
   ]
  },
  {
   "cell_type": "code",
   "execution_count": 5,
   "id": "6c798b36",
   "metadata": {},
   "outputs": [],
   "source": [
    "# STEP 4: Feature and Target Split\n",
    "X = bank_df.drop(\"deposit\", axis=1)\n",
    "Y = bank_df[\"deposit\"]\n",
    "\n",
    "# Explanation:\n",
    "# - 'y' column prediction target hai (term deposit ka subscription)\n",
    "# - X: Features (input variables)\n",
    "# - Y: Labels (output we want to predict)"
   ]
  },
  {
   "cell_type": "code",
   "execution_count": 6,
   "id": "54294d2a",
   "metadata": {},
   "outputs": [],
   "source": [
    "# STEP 5: Feature Scaling\n",
    "from sklearn.preprocessing import StandardScaler\n",
    "\n",
    "scaler = StandardScaler()\n",
    "X_scaled = scaler.fit_transform(X)\n",
    "\n",
    "# Explanation:\n",
    "# - StandardScaler(): Features ko normalize karta hai taake values same scale par ho\n",
    "# - fit_transform(): Mean = 0, Std = 1 scale apply karta hai"
   ]
  },
  {
   "cell_type": "code",
   "execution_count": 7,
   "id": "4e56f79c",
   "metadata": {},
   "outputs": [
    {
     "name": "stdout",
     "output_type": "stream",
     "text": [
      "Selected Features: Index(['age', 'job', 'balance', 'contact', 'month', 'duration', 'campaign',\n",
      "       'pdays', 'previous', 'poutcome'],\n",
      "      dtype='object')\n"
     ]
    }
   ],
   "source": [
    "# STEP 6: Feature Selection\n",
    "from sklearn.feature_selection import SelectKBest, mutual_info_classif\n",
    "\n",
    "# Select top 10 features\n",
    "selector = SelectKBest(score_func=mutual_info_classif, k=10)\n",
    "X_selected = selector.fit_transform(X_scaled, Y)\n",
    "selected_features = X.columns[selector.get_support()]\n",
    "\n",
    "print(\"Selected Features:\", selected_features)\n",
    "\n",
    "# Explanation:\n",
    "# - SelectKBest(): Sabse important features choose karta hai\n",
    "# - mutual_info_classif(): Classification ke liye relevance check karta hai\n",
    "# - get_support(): True/False array deta hai ke kaun se columns select hue"
   ]
  },
  {
   "cell_type": "code",
   "execution_count": 8,
   "id": "4ed15193",
   "metadata": {},
   "outputs": [
    {
     "name": "stdout",
     "output_type": "stream",
     "text": [
      "Logistic Regression Accuracy: 0.7338265862181325\n",
      "Decision Tree Accuracy: 0.7281026537422532\n",
      "Random Forest Accuracy: 0.7947574425327484\n"
     ]
    }
   ],
   "source": [
    "# STEP 7: Model Training\n",
    "from sklearn.linear_model import LogisticRegression\n",
    "from sklearn.tree import DecisionTreeClassifier\n",
    "from sklearn.ensemble import RandomForestClassifier\n",
    "from sklearn.model_selection import cross_val_score\n",
    "\n",
    "# Logistic Regression\n",
    "log_model = LogisticRegression()\n",
    "log_scores = cross_val_score(log_model, X_selected, Y, cv=5)\n",
    "print(\"Logistic Regression Accuracy:\", log_scores.mean())\n",
    "\n",
    "# Decision Tree\n",
    "tree_model = DecisionTreeClassifier()\n",
    "tree_scores = cross_val_score(tree_model, X_selected, Y, cv=5)\n",
    "print(\"Decision Tree Accuracy:\", tree_scores.mean())\n",
    "\n",
    "# Random Forest (Ensemble)\n",
    "forest_model = RandomForestClassifier()\n",
    "forest_scores = cross_val_score(forest_model, X_selected, Y, cv=5)\n",
    "print(\"Random Forest Accuracy:\", forest_scores.mean())\n",
    "\n",
    "# Explanation:\n",
    "# - cross_val_score(): 5-fold cross-validation karta hai\n",
    "# - mean(): Average accuracy return karta hai"
   ]
  },
  {
   "cell_type": "code",
   "execution_count": 9,
   "id": "6797c920",
   "metadata": {},
   "outputs": [
    {
     "name": "stdout",
     "output_type": "stream",
     "text": [
      "              precision    recall  f1-score   support\n",
      "\n",
      "           0       0.84      0.81      0.83      1166\n",
      "           1       0.80      0.84      0.82      1067\n",
      "\n",
      "    accuracy                           0.82      2233\n",
      "   macro avg       0.82      0.82      0.82      2233\n",
      "weighted avg       0.82      0.82      0.82      2233\n",
      "\n"
     ]
    }
   ],
   "source": [
    "# STEP 8: Evaluate with Other Metrics\n",
    "from sklearn.metrics import classification_report\n",
    "from sklearn.model_selection import train_test_split\n",
    "\n",
    "# Split into train/test\n",
    "X_train, X_test, y_train, y_test = train_test_split(X_selected, Y, test_size=0.2, random_state=42)\n",
    "\n",
    "# Train best model (Random Forest)\n",
    "forest_model.fit(X_train, y_train)\n",
    "y_pred = forest_model.predict(X_test)\n",
    "\n",
    "# Show classification report\n",
    "print(classification_report(y_test, y_pred))\n",
    "\n",
    "# Explanation:\n",
    "# - classification_report(): Accuracy, Precision, Recall, F1-Score deta hai\n",
    "# - RandomForestClassifier best model use hua kyun ke uski average accuracy zyada thi"
   ]
  },
  {
   "cell_type": "code",
   "execution_count": 10,
   "id": "7292b2cd",
   "metadata": {},
   "outputs": [
    {
     "data": {
      "image/png": "[encoded data removed]",
      "text/plain": [
       "<Figure size 1000x600 with 1 Axes>"
      ]
     },
     "metadata": {},
     "output_type": "display_data"
    }
   ],
   "source": [
    "# STEP 9: Feature Importance Analysis\n",
    "import matplotlib.pyplot as plt\n",
    "import seaborn as sns\n",
    "\n",
    "importances = forest_model.feature_importances_\n",
    "feature_importance_df = pd.DataFrame({\n",
    "    'Feature': selected_features,\n",
    "    'Importance': importances\n",
    "}).sort_values(by='Importance', ascending=False)\n",
    "\n",
    "# Plot\n",
    "plt.figure(figsize=(10,6))\n",
    "sns.barplot(x='Importance', y='Feature', data=feature_importance_df)\n",
    "plt.title(\"Feature Importance\")\n",
    "plt.show()\n",
    "\n",
    "# Explanation:\n",
    "# - feature_importances_: Batata hai ke kaun se features prediction mein zyada helpful thay\n",
    "# - barplot(): Visual representation deta hai importance ka"
   ]
  }
 ],
 "metadata": {
  "kernelspec": {
   "display_name": "Python 3",
   "language": "python",
   "name": "python3"
  },
  "language_info": {
   "codemirror_mode": {
    "name": "ipython",
    "version": 3
   },
   "file_extension": ".py",
   "mimetype": "text/x-python",
   "name": "python",
   "nbconvert_exporter": "python",
   "pygments_lexer": "ipython3",
   "version": "3.13.1"
  }
 },
 "nbformat": 4,
 "nbformat_minor": 5
}
